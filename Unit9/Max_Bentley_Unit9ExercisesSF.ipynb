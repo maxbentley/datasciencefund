{
  "nbformat": 4,
  "nbformat_minor": 0,
  "metadata": {
    "colab": {
      "provenance": [],
      "include_colab_link": true
    },
    "kernelspec": {
      "name": "python3",
      "display_name": "Python 3"
    },
    "language_info": {
      "name": "python"
    }
  },
  "cells": [
    {
      "cell_type": "markdown",
      "metadata": {
        "id": "view-in-github",
        "colab_type": "text"
      },
      "source": [
        "<a href=\"https://colab.research.google.com/github/maxbentley/datasciencefund/blob/main/Unit9/Max_Bentley_Unit9ExercisesSF.ipynb\" target=\"_parent\"><img src=\"https://colab.research.google.com/assets/colab-badge.svg\" alt=\"Open In Colab\"/></a>"
      ]
    },
    {
      "cell_type": "markdown",
      "source": [
        "# Unit 9 Exercises: Matrix Multiplication is all you need?\n",
        "\n",
        "We won't just talk about matrix multiplication in these exercises: we'll also play with a neuarl network visualization in order to get some intuition on how to properly parameratize neural networks."
      ],
      "metadata": {
        "id": "_AryvPXMCLY0"
      }
    },
    {
      "cell_type": "markdown",
      "source": [
        "**Task1**:\n",
        "\n",
        "Play with the web app at this [link](http://matrixmultiplication.xyz/).\n",
        "\n",
        "Explain what happens when we do matrix multiplication.\n",
        "\n",
        "Yes, I know I basically already asked you to do this in the notes. Don't copy and paste your anwser from before; honestly do the exercise again."
      ],
      "metadata": {
        "id": "p1alkQDKCfg8"
      }
    },
    {
      "cell_type": "markdown",
      "source": [
        "When you do matrix multiplication, you're taking the dot product of each row of the first matrix with each column of the second matrix, with the row of the first matrix determining the row of the value in the calculated matrix and the column of the second matrix determining the column of the value in the calculated matrix. This means that the number of rows in the first matrix must match the number of columns in the second matrix."
      ],
      "metadata": {
        "id": "3DXEg-Wk_KqW"
      }
    },
    {
      "cell_type": "markdown",
      "source": [
        "**Task2**:\n",
        "\n",
        "Look at code for any neural network, such as my notes, or any other source.\n",
        "\n",
        "1. Point out where in the code the neural network is multiplying matricies.\n",
        "\n",
        "2. Conceptually, what part of a neural network is that matrix multiplication that you pointed out?\n",
        "In other words, what does matrix multiplication do for a neural network?"
      ],
      "metadata": {
        "id": "JK1wkGSwC7nW"
      }
    },
    {
      "cell_type": "markdown",
      "source": [
        "The neural network multiplies matrices during the initial prediction step. Conceptually, this is just applying the weights to the data in order to predict it. The next steps then analyze and rectify the differences between the data and the prediction."
      ],
      "metadata": {
        "id": "XQr3Kcy6Aj5J"
      }
    },
    {
      "cell_type": "markdown",
      "source": [
        "**Task3**:\n",
        "\n",
        "Go to the [TensorFlow Playground website](https://playground.tensorflow.org/#activation=tanh&batchSize=10&dataset=circle&regDataset=reg-plane&learningRate=0.03&regularizationRate=0&noise=0&networkShape=4,2&seed=0.16540&showTestData=false&discretize=false&percTrainData=50&x=true&y=true&xTimesY=false&xSquared=false&ySquared=false&cosX=false&sinX=false&cosY=false&sinY=false&collectStats=false&problem=classification&initZero=false&hideText=false).\n",
        "\n",
        "Explain what part of the neural network visualization is matrix multiplication."
      ],
      "metadata": {
        "id": "cUQQ_t5wEtD0"
      }
    },
    {
      "cell_type": "markdown",
      "source": [
        "The matrix multiplications are being applied in the transition between the layers, as the weights are applied to attempt to predict the predicted data point at the end of the NN."
      ],
      "metadata": {
        "id": "mRDSOHgYD5PI"
      }
    },
    {
      "cell_type": "markdown",
      "source": [
        "**Task4**:\n",
        "\n",
        "Go to the [TensorFlow Playground website](https://playground.tensorflow.org/#activation=tanh&batchSize=10&dataset=circle&regDataset=reg-plane&learningRate=0.03&regularizationRate=0&noise=0&networkShape=4,2&seed=0.16540&showTestData=false&discretize=false&percTrainData=50&x=true&y=true&xTimesY=false&xSquared=false&ySquared=false&cosX=false&sinX=false&cosY=false&sinY=false&collectStats=false&problem=classification&initZero=false&hideText=false).\n",
        "\n",
        "Set up the scenario with the following characteristics:\n",
        "\n",
        "- problem type: regression\n",
        "- Data: multi guassian\n",
        "- Ratio: 80% training\n",
        "- Noise: 20\n",
        "- Batch size: 15\n",
        "- Discretize output: start with it checked on\n",
        "\n",
        "You may turn discretize output on or off once you get an idea of what to do, so you can see what each node is doing.\n",
        "\n",
        "Goal: get your test loss to under **0.03**.\n",
        "\n",
        "You may change any of the other parameters that I didn't explicitly tell you to set up. Remember to use the back/restart button inbetween model adjustments.\n",
        "\n",
        "Your answer will be a link to the model you created. How do you get that link? Once you've achieved the appropriate test loss, copy and paste the url."
      ],
      "metadata": {
        "id": "8sYleMUZDKDg"
      }
    },
    {
      "cell_type": "markdown",
      "source": [
        "https://playground.tensorflow.org/#activation=tanh&batchSize=15&dataset=gauss&regDataset=reg-gauss&learningRate=0.03&regularizationRate=0&noise=20&networkShape=5,3&seed=0.71197&showTestData=false&discretize=true&percTrainData=80&x=true&y=true&xTimesY=false&xSquared=false&ySquared=false&cosX=false&sinX=false&cosY=false&sinY=false&collectStats=false&problem=regression&initZero=false&hideText=false"
      ],
      "metadata": {
        "id": "dgX7wXMRGPBx"
      }
    },
    {
      "cell_type": "markdown",
      "source": [
        "**Task5**:\n",
        "\n",
        "Go to the [TensorFlow Playground website](https://playground.tensorflow.org/#activation=tanh&batchSize=10&dataset=circle&regDataset=reg-plane&learningRate=0.03&regularizationRate=0&noise=0&networkShape=4,2&seed=0.16540&showTestData=false&discretize=false&percTrainData=50&x=true&y=true&xTimesY=false&xSquared=false&ySquared=false&cosX=false&sinX=false&cosY=false&sinY=false&collectStats=false&problem=classification&initZero=false&hideText=false).\n",
        "\n",
        "Set up the scenario with the following characteristics:\n",
        "\n",
        "- problem type: classification\n",
        "- Data: circle\n",
        "- Ratio: 80% training\n",
        "- Noise: 0\n",
        "- Batch size: 15\n",
        "\n",
        "Goal: get your test loss to under **0.005**.\n",
        "\n",
        "You may change any of the other parameters that I didn't explicitly tell you to set up. Remember to use the back/restart button inbetween model adjustments.\n",
        "\n",
        "Your answer will be a link to the model you created. How do you get that link? Once you've achieved the appropriate test loss, copy and paste the url."
      ],
      "metadata": {
        "id": "4Pan5Q-XJDpe"
      }
    },
    {
      "cell_type": "markdown",
      "source": [
        "https://playground.tensorflow.org/#activation=tanh&batchSize=15&dataset=circle&regDataset=reg-plane&learningRate=0.03&regularizationRate=0&noise=0&networkShape=4,2&seed=0.96336&showTestData=false&discretize=false&percTrainData=80&x=true&y=true&xTimesY=false&xSquared=false&ySquared=false&cosX=false&sinX=false&cosY=false&sinY=false&collectStats=false&problem=classification&initZero=false&hideText=false"
      ],
      "metadata": {
        "id": "GeVDjaPpGwlJ"
      }
    },
    {
      "cell_type": "markdown",
      "source": [
        "**Task6**:\n",
        "\n",
        "Go to the [TensorFlow Playground website](https://playground.tensorflow.org/#activation=tanh&batchSize=10&dataset=circle&regDataset=reg-plane&learningRate=0.03&regularizationRate=0&noise=0&networkShape=4,2&seed=0.16540&showTestData=false&discretize=false&percTrainData=50&x=true&y=true&xTimesY=false&xSquared=false&ySquared=false&cosX=false&sinX=false&cosY=false&sinY=false&collectStats=false&problem=classification&initZero=false&hideText=false).\n",
        "\n",
        "Set up the scenario with the following characteristics:\n",
        "\n",
        "- problem type: classification\n",
        "- Data: spiral\n",
        "- Ratio: 80% training\n",
        "- Noise: 20\n",
        "- Batch size: 15\n",
        "\n",
        "Goal: get your test loss to under **0.05**.\n",
        "\n",
        "You may change any of the other parameters that I didn't explicitly tell you to set up. Remember to use the back/restart button inbetween model adjustments.\n",
        "\n",
        "Your answer will be a link to the model you created. How do you get that link? Once you've achieved the appropriate test loss, copy and paste the url."
      ],
      "metadata": {
        "id": "AKuSgkjWLlwL"
      }
    },
    {
      "cell_type": "markdown",
      "source": [
        "https://playground.tensorflow.org/#activation=tanh&batchSize=15&dataset=spiral&regDataset=reg-plane&learningRate=0.1&regularizationRate=0&noise=20&networkShape=8,5,2&seed=0.98382&showTestData=false&discretize=true&percTrainData=80&x=true&y=true&xTimesY=false&xSquared=false&ySquared=false&cosX=false&sinX=true&cosY=false&sinY=true&collectStats=false&problem=classification&initZero=false&hideText=false"
      ],
      "metadata": {
        "id": "lE2rB8i3LLWt"
      }
    }
  ]
}